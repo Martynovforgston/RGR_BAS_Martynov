{
 "cells": [
  {
   "cell_type": "markdown",
   "id": "38ed03ae-ebca-4041-a40b-bcd86cc7a6e8",
   "metadata": {},
   "source": [
    "# Первая программа на суперкомпьютере"
   ]
  },
  {
   "cell_type": "code",
   "execution_count": 2,
   "id": "06afaaaa-721a-43a5-927d-c5fbcff12a53",
   "metadata": {},
   "outputs": [
    {
     "name": "stdout",
     "output_type": "stream",
     "text": [
      "Hello, World\n"
     ]
    }
   ],
   "source": [
    "print(\"Hello, World\")"
   ]
  },
  {
   "cell_type": "markdown",
   "id": "ed93e956-7453-4925-b58b-d781bc2adc54",
   "metadata": {},
   "source": [
    "Выполнил: Мартынов В.Е."
   ]
  }
 ],
 "metadata": {
  "kernelspec": {
   "display_name": "Python 3 (ipykernel)",
   "language": "python",
   "name": "python3"
  },
  "language_info": {
   "codemirror_mode": {
    "name": "ipython",
    "version": 3
   },
   "file_extension": ".py",
   "mimetype": "text/x-python",
   "name": "python",
   "nbconvert_exporter": "python",
   "pygments_lexer": "ipython3",
   "version": "3.8.12"
  }
 },
 "nbformat": 4,
 "nbformat_minor": 5
}
